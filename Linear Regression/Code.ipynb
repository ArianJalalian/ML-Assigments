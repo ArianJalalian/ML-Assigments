{
 "cells": [
  {
   "cell_type": "code",
   "execution_count": 437,
   "id": "6e3fe35b",
   "metadata": {},
   "outputs": [],
   "source": [
    "import numpy as np \n",
    "import pandas as pd \n",
    "import copy \n",
    "import seaborn as sns \n",
    "import matplotlib.pyplot as plt"
   ]
  },
  {
   "cell_type": "code",
   "execution_count": 438,
   "id": "beb4567d",
   "metadata": {},
   "outputs": [],
   "source": [
    "data = pd.read_csv('dollar.csv')"
   ]
  },
  {
   "cell_type": "code",
   "execution_count": 439,
   "id": "290e7451",
   "metadata": {},
   "outputs": [],
   "source": [
    "data.loc[data[data['year'] == '1401 *'].index[0], 'year'] = '1401'"
   ]
  },
  {
   "cell_type": "code",
   "execution_count": 440,
   "id": "d7f63db9",
   "metadata": {},
   "outputs": [],
   "source": [
    "data['year'] = data['year'].apply(lambda y : float(y))"
   ]
  },
  {
   "cell_type": "code",
   "execution_count": 441,
   "id": "14db2c52",
   "metadata": {},
   "outputs": [
    {
     "data": {
      "text/html": [
       "<div>\n",
       "<style scoped>\n",
       "    .dataframe tbody tr th:only-of-type {\n",
       "        vertical-align: middle;\n",
       "    }\n",
       "\n",
       "    .dataframe tbody tr th {\n",
       "        vertical-align: top;\n",
       "    }\n",
       "\n",
       "    .dataframe thead th {\n",
       "        text-align: right;\n",
       "    }\n",
       "</style>\n",
       "<table border=\"1\" class=\"dataframe\">\n",
       "  <thead>\n",
       "    <tr style=\"text-align: right;\">\n",
       "      <th></th>\n",
       "      <th>year</th>\n",
       "      <th>dollar market price</th>\n",
       "      <th>dollar official price</th>\n",
       "      <th>Price difference ratio</th>\n",
       "      <th>annual growth ratio</th>\n",
       "    </tr>\n",
       "  </thead>\n",
       "  <tbody>\n",
       "    <tr>\n",
       "      <th>0</th>\n",
       "      <td>1353.0</td>\n",
       "      <td>7.00000</td>\n",
       "      <td>7</td>\n",
       "      <td>1.000000</td>\n",
       "      <td>-</td>\n",
       "    </tr>\n",
       "    <tr>\n",
       "      <th>1</th>\n",
       "      <td>1354.0</td>\n",
       "      <td>7.00000</td>\n",
       "      <td>7</td>\n",
       "      <td>1.000000</td>\n",
       "      <td>0.0%</td>\n",
       "    </tr>\n",
       "    <tr>\n",
       "      <th>2</th>\n",
       "      <td>1355.0</td>\n",
       "      <td>7.00000</td>\n",
       "      <td>7</td>\n",
       "      <td>1.000000</td>\n",
       "      <td>0.0%</td>\n",
       "    </tr>\n",
       "    <tr>\n",
       "      <th>3</th>\n",
       "      <td>1356.0</td>\n",
       "      <td>7.00000</td>\n",
       "      <td>7</td>\n",
       "      <td>1.000000</td>\n",
       "      <td>0.0%</td>\n",
       "    </tr>\n",
       "    <tr>\n",
       "      <th>4</th>\n",
       "      <td>1357.0</td>\n",
       "      <td>10.00000</td>\n",
       "      <td>7</td>\n",
       "      <td>1.428571</td>\n",
       "      <td>42.9%</td>\n",
       "    </tr>\n",
       "    <tr>\n",
       "      <th>5</th>\n",
       "      <td>1358.0</td>\n",
       "      <td>14.00000</td>\n",
       "      <td>7</td>\n",
       "      <td>2.000000</td>\n",
       "      <td>40.0%</td>\n",
       "    </tr>\n",
       "    <tr>\n",
       "      <th>6</th>\n",
       "      <td>1359.0</td>\n",
       "      <td>20.00000</td>\n",
       "      <td>7</td>\n",
       "      <td>2.857143</td>\n",
       "      <td>42.9%</td>\n",
       "    </tr>\n",
       "    <tr>\n",
       "      <th>7</th>\n",
       "      <td>1360.0</td>\n",
       "      <td>27.00000</td>\n",
       "      <td>7</td>\n",
       "      <td>3.857143</td>\n",
       "      <td>35.0%</td>\n",
       "    </tr>\n",
       "    <tr>\n",
       "      <th>8</th>\n",
       "      <td>1361.0</td>\n",
       "      <td>35.00000</td>\n",
       "      <td>7</td>\n",
       "      <td>5.000000</td>\n",
       "      <td>29.6%</td>\n",
       "    </tr>\n",
       "    <tr>\n",
       "      <th>9</th>\n",
       "      <td>1362.0</td>\n",
       "      <td>45.00000</td>\n",
       "      <td>7</td>\n",
       "      <td>6.428571</td>\n",
       "      <td>28.6%</td>\n",
       "    </tr>\n",
       "    <tr>\n",
       "      <th>10</th>\n",
       "      <td>1363.0</td>\n",
       "      <td>58.00000</td>\n",
       "      <td>7</td>\n",
       "      <td>8.285714</td>\n",
       "      <td>28.9%</td>\n",
       "    </tr>\n",
       "    <tr>\n",
       "      <th>11</th>\n",
       "      <td>1364.0</td>\n",
       "      <td>61.00000</td>\n",
       "      <td>7</td>\n",
       "      <td>8.714286</td>\n",
       "      <td>5.2%</td>\n",
       "    </tr>\n",
       "    <tr>\n",
       "      <th>12</th>\n",
       "      <td>1365.0</td>\n",
       "      <td>74.00000</td>\n",
       "      <td>7</td>\n",
       "      <td>10.571429</td>\n",
       "      <td>21.3%</td>\n",
       "    </tr>\n",
       "    <tr>\n",
       "      <th>13</th>\n",
       "      <td>1366.0</td>\n",
       "      <td>99.00000</td>\n",
       "      <td>7</td>\n",
       "      <td>14.142857</td>\n",
       "      <td>33.8%</td>\n",
       "    </tr>\n",
       "    <tr>\n",
       "      <th>14</th>\n",
       "      <td>1367.0</td>\n",
       "      <td>97.00000</td>\n",
       "      <td>7</td>\n",
       "      <td>13.857143</td>\n",
       "      <td>-2.0%</td>\n",
       "    </tr>\n",
       "    <tr>\n",
       "      <th>15</th>\n",
       "      <td>1368.0</td>\n",
       "      <td>121.00000</td>\n",
       "      <td>7</td>\n",
       "      <td>17.285714</td>\n",
       "      <td>24.7%</td>\n",
       "    </tr>\n",
       "    <tr>\n",
       "      <th>16</th>\n",
       "      <td>1369.0</td>\n",
       "      <td>141.00000</td>\n",
       "      <td>7</td>\n",
       "      <td>20.142857</td>\n",
       "      <td>16.5%</td>\n",
       "    </tr>\n",
       "    <tr>\n",
       "      <th>17</th>\n",
       "      <td>1370.0</td>\n",
       "      <td>142.00000</td>\n",
       "      <td>7</td>\n",
       "      <td>20.285714</td>\n",
       "      <td>0.7%</td>\n",
       "    </tr>\n",
       "    <tr>\n",
       "      <th>18</th>\n",
       "      <td>1371.0</td>\n",
       "      <td>150.00000</td>\n",
       "      <td>146</td>\n",
       "      <td>1.027397</td>\n",
       "      <td>5.6%</td>\n",
       "    </tr>\n",
       "    <tr>\n",
       "      <th>19</th>\n",
       "      <td>1372.0</td>\n",
       "      <td>181.00000</td>\n",
       "      <td>165</td>\n",
       "      <td>1.096970</td>\n",
       "      <td>20.7%</td>\n",
       "    </tr>\n",
       "    <tr>\n",
       "      <th>20</th>\n",
       "      <td>1373.0</td>\n",
       "      <td>264.00000</td>\n",
       "      <td>175</td>\n",
       "      <td>1.508571</td>\n",
       "      <td>45.9%</td>\n",
       "    </tr>\n",
       "    <tr>\n",
       "      <th>21</th>\n",
       "      <td>1374.0</td>\n",
       "      <td>404.00000</td>\n",
       "      <td>175</td>\n",
       "      <td>2.308571</td>\n",
       "      <td>53.0%</td>\n",
       "    </tr>\n",
       "    <tr>\n",
       "      <th>22</th>\n",
       "      <td>1375.0</td>\n",
       "      <td>445.00000</td>\n",
       "      <td>175</td>\n",
       "      <td>2.542857</td>\n",
       "      <td>10.1%</td>\n",
       "    </tr>\n",
       "    <tr>\n",
       "      <th>23</th>\n",
       "      <td>1376.0</td>\n",
       "      <td>478.00000</td>\n",
       "      <td>176</td>\n",
       "      <td>2.715909</td>\n",
       "      <td>7.4%</td>\n",
       "    </tr>\n",
       "    <tr>\n",
       "      <th>24</th>\n",
       "      <td>1377.0</td>\n",
       "      <td>647.00000</td>\n",
       "      <td>176</td>\n",
       "      <td>3.676136</td>\n",
       "      <td>35.4%</td>\n",
       "    </tr>\n",
       "    <tr>\n",
       "      <th>25</th>\n",
       "      <td>1378.0</td>\n",
       "      <td>863.00000</td>\n",
       "      <td>176</td>\n",
       "      <td>4.903409</td>\n",
       "      <td>33.4%</td>\n",
       "    </tr>\n",
       "    <tr>\n",
       "      <th>26</th>\n",
       "      <td>1379.0</td>\n",
       "      <td>813.00000</td>\n",
       "      <td>176</td>\n",
       "      <td>4.619318</td>\n",
       "      <td>-5.8%</td>\n",
       "    </tr>\n",
       "    <tr>\n",
       "      <th>27</th>\n",
       "      <td>1380.0</td>\n",
       "      <td>793.00000</td>\n",
       "      <td>176</td>\n",
       "      <td>4.505682</td>\n",
       "      <td>-2.5%</td>\n",
       "    </tr>\n",
       "    <tr>\n",
       "      <th>28</th>\n",
       "      <td>1381.0</td>\n",
       "      <td>799.00000</td>\n",
       "      <td>796</td>\n",
       "      <td>1.003769</td>\n",
       "      <td>0.8%</td>\n",
       "    </tr>\n",
       "    <tr>\n",
       "      <th>29</th>\n",
       "      <td>1382.0</td>\n",
       "      <td>832.00000</td>\n",
       "      <td>828</td>\n",
       "      <td>1.004831</td>\n",
       "      <td>4.1%</td>\n",
       "    </tr>\n",
       "    <tr>\n",
       "      <th>30</th>\n",
       "      <td>1383.0</td>\n",
       "      <td>875.00000</td>\n",
       "      <td>872</td>\n",
       "      <td>1.003440</td>\n",
       "      <td>5.2%</td>\n",
       "    </tr>\n",
       "    <tr>\n",
       "      <th>31</th>\n",
       "      <td>1384.0</td>\n",
       "      <td>904.00000</td>\n",
       "      <td>902</td>\n",
       "      <td>1.002217</td>\n",
       "      <td>3.3%</td>\n",
       "    </tr>\n",
       "    <tr>\n",
       "      <th>32</th>\n",
       "      <td>1385.0</td>\n",
       "      <td>923.00000</td>\n",
       "      <td>920</td>\n",
       "      <td>1.003261</td>\n",
       "      <td>2.1%</td>\n",
       "    </tr>\n",
       "    <tr>\n",
       "      <th>33</th>\n",
       "      <td>1386.0</td>\n",
       "      <td>936.00000</td>\n",
       "      <td>929</td>\n",
       "      <td>1.007535</td>\n",
       "      <td>1.4%</td>\n",
       "    </tr>\n",
       "    <tr>\n",
       "      <th>34</th>\n",
       "      <td>1387.0</td>\n",
       "      <td>967.00000</td>\n",
       "      <td>957</td>\n",
       "      <td>1.010449</td>\n",
       "      <td>3.3%</td>\n",
       "    </tr>\n",
       "    <tr>\n",
       "      <th>35</th>\n",
       "      <td>1388.0</td>\n",
       "      <td>998.00000</td>\n",
       "      <td>992</td>\n",
       "      <td>1.006048</td>\n",
       "      <td>3.2%</td>\n",
       "    </tr>\n",
       "    <tr>\n",
       "      <th>36</th>\n",
       "      <td>1389.0</td>\n",
       "      <td>1060.00000</td>\n",
       "      <td>1034</td>\n",
       "      <td>1.025145</td>\n",
       "      <td>6.2%</td>\n",
       "    </tr>\n",
       "    <tr>\n",
       "      <th>37</th>\n",
       "      <td>1390.0</td>\n",
       "      <td>1357.00000</td>\n",
       "      <td>1096</td>\n",
       "      <td>1.238139</td>\n",
       "      <td>28.0%</td>\n",
       "    </tr>\n",
       "    <tr>\n",
       "      <th>38</th>\n",
       "      <td>1391.0</td>\n",
       "      <td>2606.00000</td>\n",
       "      <td>1226</td>\n",
       "      <td>2.125612</td>\n",
       "      <td>92.0%</td>\n",
       "    </tr>\n",
       "    <tr>\n",
       "      <th>39</th>\n",
       "      <td>1392.0</td>\n",
       "      <td>3184.00000</td>\n",
       "      <td>2125</td>\n",
       "      <td>1.498353</td>\n",
       "      <td>22.2%</td>\n",
       "    </tr>\n",
       "    <tr>\n",
       "      <th>40</th>\n",
       "      <td>1393.0</td>\n",
       "      <td>3280.00000</td>\n",
       "      <td>2651</td>\n",
       "      <td>1.237269</td>\n",
       "      <td>3.0%</td>\n",
       "    </tr>\n",
       "    <tr>\n",
       "      <th>41</th>\n",
       "      <td>1394.0</td>\n",
       "      <td>3450.00000</td>\n",
       "      <td>2958</td>\n",
       "      <td>1.166329</td>\n",
       "      <td>5.2%</td>\n",
       "    </tr>\n",
       "    <tr>\n",
       "      <th>42</th>\n",
       "      <td>1395.0</td>\n",
       "      <td>3644.00000</td>\n",
       "      <td>3139</td>\n",
       "      <td>1.160879</td>\n",
       "      <td>5.6%</td>\n",
       "    </tr>\n",
       "    <tr>\n",
       "      <th>43</th>\n",
       "      <td>1396.0</td>\n",
       "      <td>4045.00000</td>\n",
       "      <td>3421</td>\n",
       "      <td>1.182403</td>\n",
       "      <td>11.0%</td>\n",
       "    </tr>\n",
       "    <tr>\n",
       "      <th>44</th>\n",
       "      <td>1397.0</td>\n",
       "      <td>10783.20000</td>\n",
       "      <td>4200</td>\n",
       "      <td>2.567429</td>\n",
       "      <td>166.6%</td>\n",
       "    </tr>\n",
       "    <tr>\n",
       "      <th>45</th>\n",
       "      <td>1398.0</td>\n",
       "      <td>12918.30000</td>\n",
       "      <td>4200</td>\n",
       "      <td>3.075786</td>\n",
       "      <td>19.8%</td>\n",
       "    </tr>\n",
       "    <tr>\n",
       "      <th>46</th>\n",
       "      <td>1399.0</td>\n",
       "      <td>22887.20000</td>\n",
       "      <td>4200</td>\n",
       "      <td>5.449333</td>\n",
       "      <td>77.2%</td>\n",
       "    </tr>\n",
       "    <tr>\n",
       "      <th>47</th>\n",
       "      <td>1400.0</td>\n",
       "      <td>25947.60000</td>\n",
       "      <td>4200</td>\n",
       "      <td>6.178000</td>\n",
       "      <td>13.4%</td>\n",
       "    </tr>\n",
       "    <tr>\n",
       "      <th>48</th>\n",
       "      <td>1401.0</td>\n",
       "      <td>34351.90751</td>\n",
       "      <td>4200</td>\n",
       "      <td>7.430143</td>\n",
       "      <td>32.4%</td>\n",
       "    </tr>\n",
       "  </tbody>\n",
       "</table>\n",
       "</div>"
      ],
      "text/plain": [
       "      year  dollar market price  dollar official price  \\\n",
       "0   1353.0              7.00000                      7   \n",
       "1   1354.0              7.00000                      7   \n",
       "2   1355.0              7.00000                      7   \n",
       "3   1356.0              7.00000                      7   \n",
       "4   1357.0             10.00000                      7   \n",
       "5   1358.0             14.00000                      7   \n",
       "6   1359.0             20.00000                      7   \n",
       "7   1360.0             27.00000                      7   \n",
       "8   1361.0             35.00000                      7   \n",
       "9   1362.0             45.00000                      7   \n",
       "10  1363.0             58.00000                      7   \n",
       "11  1364.0             61.00000                      7   \n",
       "12  1365.0             74.00000                      7   \n",
       "13  1366.0             99.00000                      7   \n",
       "14  1367.0             97.00000                      7   \n",
       "15  1368.0            121.00000                      7   \n",
       "16  1369.0            141.00000                      7   \n",
       "17  1370.0            142.00000                      7   \n",
       "18  1371.0            150.00000                    146   \n",
       "19  1372.0            181.00000                    165   \n",
       "20  1373.0            264.00000                    175   \n",
       "21  1374.0            404.00000                    175   \n",
       "22  1375.0            445.00000                    175   \n",
       "23  1376.0            478.00000                    176   \n",
       "24  1377.0            647.00000                    176   \n",
       "25  1378.0            863.00000                    176   \n",
       "26  1379.0            813.00000                    176   \n",
       "27  1380.0            793.00000                    176   \n",
       "28  1381.0            799.00000                    796   \n",
       "29  1382.0            832.00000                    828   \n",
       "30  1383.0            875.00000                    872   \n",
       "31  1384.0            904.00000                    902   \n",
       "32  1385.0            923.00000                    920   \n",
       "33  1386.0            936.00000                    929   \n",
       "34  1387.0            967.00000                    957   \n",
       "35  1388.0            998.00000                    992   \n",
       "36  1389.0           1060.00000                   1034   \n",
       "37  1390.0           1357.00000                   1096   \n",
       "38  1391.0           2606.00000                   1226   \n",
       "39  1392.0           3184.00000                   2125   \n",
       "40  1393.0           3280.00000                   2651   \n",
       "41  1394.0           3450.00000                   2958   \n",
       "42  1395.0           3644.00000                   3139   \n",
       "43  1396.0           4045.00000                   3421   \n",
       "44  1397.0          10783.20000                   4200   \n",
       "45  1398.0          12918.30000                   4200   \n",
       "46  1399.0          22887.20000                   4200   \n",
       "47  1400.0          25947.60000                   4200   \n",
       "48  1401.0          34351.90751                   4200   \n",
       "\n",
       "    Price difference ratio annual growth ratio  \n",
       "0                 1.000000                   -  \n",
       "1                 1.000000                0.0%  \n",
       "2                 1.000000                0.0%  \n",
       "3                 1.000000                0.0%  \n",
       "4                 1.428571               42.9%  \n",
       "5                 2.000000               40.0%  \n",
       "6                 2.857143               42.9%  \n",
       "7                 3.857143               35.0%  \n",
       "8                 5.000000               29.6%  \n",
       "9                 6.428571               28.6%  \n",
       "10                8.285714               28.9%  \n",
       "11                8.714286                5.2%  \n",
       "12               10.571429               21.3%  \n",
       "13               14.142857               33.8%  \n",
       "14               13.857143               -2.0%  \n",
       "15               17.285714               24.7%  \n",
       "16               20.142857               16.5%  \n",
       "17               20.285714                0.7%  \n",
       "18                1.027397                5.6%  \n",
       "19                1.096970               20.7%  \n",
       "20                1.508571               45.9%  \n",
       "21                2.308571               53.0%  \n",
       "22                2.542857               10.1%  \n",
       "23                2.715909                7.4%  \n",
       "24                3.676136               35.4%  \n",
       "25                4.903409               33.4%  \n",
       "26                4.619318               -5.8%  \n",
       "27                4.505682               -2.5%  \n",
       "28                1.003769                0.8%  \n",
       "29                1.004831                4.1%  \n",
       "30                1.003440                5.2%  \n",
       "31                1.002217                3.3%  \n",
       "32                1.003261                2.1%  \n",
       "33                1.007535                1.4%  \n",
       "34                1.010449                3.3%  \n",
       "35                1.006048                3.2%  \n",
       "36                1.025145                6.2%  \n",
       "37                1.238139               28.0%  \n",
       "38                2.125612               92.0%  \n",
       "39                1.498353               22.2%  \n",
       "40                1.237269                3.0%  \n",
       "41                1.166329                5.2%  \n",
       "42                1.160879                5.6%  \n",
       "43                1.182403               11.0%  \n",
       "44                2.567429              166.6%  \n",
       "45                3.075786               19.8%  \n",
       "46                5.449333               77.2%  \n",
       "47                6.178000               13.4%  \n",
       "48                7.430143               32.4%  "
      ]
     },
     "execution_count": 441,
     "metadata": {},
     "output_type": "execute_result"
    }
   ],
   "source": [
    "data"
   ]
  },
  {
   "cell_type": "code",
   "execution_count": 442,
   "id": "e1fff51a",
   "metadata": {},
   "outputs": [],
   "source": [
    "X = []  \n",
    "year = [] \n",
    "data['year'].apply(lambda d: X.append([1, float(d)])) \n",
    "data['year'].apply(lambda d: year.append(int(d)))\n",
    "X = np.array(X)   \n",
    "\n",
    "y = np.array(data[['dollar market price', 'dollar official price']])   "
   ]
  },
  {
   "cell_type": "code",
   "execution_count": 443,
   "id": "42584a86",
   "metadata": {},
   "outputs": [],
   "source": [
    "def normalize(arr):   \n",
    "    return (arr - arr.min()) / (arr.max() - arr.min()) "
   ]
  },
  {
   "cell_type": "code",
   "execution_count": 444,
   "id": "b2db810a",
   "metadata": {},
   "outputs": [],
   "source": [
    "def denormalize(arr, prev_max, prev_min):\n",
    "    return (arr * (prev_max - prev_min)) + prev_min"
   ]
  },
  {
   "cell_type": "code",
   "execution_count": 445,
   "id": "ff10f33e",
   "metadata": {},
   "outputs": [],
   "source": [
    "X[:,1] = normalize(X[:, 1]) \n",
    "y[:,0], y[:,1] = normalize(y[:, 0]), normalize(y[:, 1]) "
   ]
  },
  {
   "cell_type": "code",
   "execution_count": 446,
   "id": "2cdbf918",
   "metadata": {},
   "outputs": [],
   "source": [
    "def loss(X, y, w):  \n",
    "    size = len(X)\n",
    "    cost = 0\n",
    "    for i in range(size): \n",
    "        cost += (np.dot(w, X[i]) - y[i]) ** 2 \n",
    "    \n",
    "    return cost / size"
   ]
  },
  {
   "cell_type": "code",
   "execution_count": 447,
   "id": "cfc0dad7",
   "metadata": {},
   "outputs": [],
   "source": [
    "def gradient_descent(X, y, alpha): \n",
    "    \n",
    "    dim = len(X[0]) \n",
    "    size = len(X) \n",
    "    w_old = np.zeros(dim) \n",
    "    w_new = np.ones(dim)\n",
    "    \n",
    "    norm = 1000\n",
    "    while norm > 0.001:  \n",
    "        for j in range(dim):  \n",
    "            term = 0 \n",
    "            for i in range(size): \n",
    "                term += (np.dot(w_old, X[i]) - y[i]) * X[i][j]   \n",
    "            w_new[j] = w_old[j] - (alpha * term / size)     \n",
    "        norm = np.linalg.norm(w_new - w_old)    \n",
    "        w_old = copy.deepcopy(w_new)  \n",
    "    return w_new        "
   ]
  },
  {
   "cell_type": "code",
   "execution_count": 473,
   "id": "a1fc5748",
   "metadata": {},
   "outputs": [
    {
     "data": {
      "text/plain": [
       "array([-1657.07629125, -1459.95164317, -1262.8269951 , -1065.70234703,\n",
       "        -868.57769896,  -671.45305088,  -474.32840281,  -277.20375474,\n",
       "         -80.07910667,   117.04554141,   314.17018948,   511.29483755,\n",
       "         708.41948562,   905.5441337 ,  1102.66878177,  1299.79342984,\n",
       "        1496.91807791,  1694.04272599,  1891.16737406,  2088.29202213,\n",
       "        2285.4166702 ,  2482.54131828,  2679.66596635,  2876.79061442,\n",
       "        3073.91526249,  3271.03991057,  3468.16455864,  3665.28920671,\n",
       "        3862.41385478,  4059.53850286,  4256.66315093,  4453.787799  ,\n",
       "        4650.91244707,  4848.03709515,  5045.16174322,  5242.28639129,\n",
       "        5439.41103936,  5636.53568744,  5833.66033551,  6030.78498358,\n",
       "        6227.90963165,  6425.03427973,  6622.1589278 ,  6819.28357587,\n",
       "        7016.40822395,  7213.53287202,  7410.65752009,  7607.78216816,\n",
       "        7804.90681624])"
      ]
     },
     "execution_count": 473,
     "metadata": {},
     "output_type": "execute_result"
    }
   ],
   "source": [
    "w = gradient_descent(X, y[:, 0], 0.1) \n",
    "linear_market_y = []\n",
    "for x in X:\n",
    "    linear_market_y.append(np.dot(w,x)) \n",
    "linear_market_price_p = denormalize(np.array(linear_market_y), float(data['dollar market price'].max()), float(data['dollar market price'].min()))    \n",
    "linear_market_price_p "
   ]
  },
  {
   "cell_type": "code",
   "execution_count": 474,
   "id": "a02059a6",
   "metadata": {},
   "outputs": [
    {
     "data": {
      "text/plain": [
       "<matplotlib.legend.Legend at 0x18c9d6329a0>"
      ]
     },
     "execution_count": 474,
     "metadata": {},
     "output_type": "execute_result"
    },
    {
     "data": {
      "image/png": "[encoded data removed]",
      "text/plain": [
       "<Figure size 432x288 with 1 Axes>"
      ]
     },
     "metadata": {
      "needs_background": "light"
     },
     "output_type": "display_data"
    }
   ],
   "source": [
    "sns.scatterplot(x=year, y=y[:, 0], color='red', label='actual')\n",
    "sns.scatterplot(x=year, y=linear_market_y, color='blue', label='predicted')\n",
    "\n",
    "plt.xlabel('Year')\n",
    "plt.ylabel('dollar market price')\n",
    "plt.legend()"
   ]
  },
  {
   "cell_type": "code",
   "execution_count": 475,
   "id": "6962dfa5",
   "metadata": {},
   "outputs": [
    {
     "data": {
      "text/plain": [
       "Text(0, 0.5, 'dollar market price')"
      ]
     },
     "execution_count": 475,
     "metadata": {},
     "output_type": "execute_result"
    },
    {
     "data": {
      "image/png": "[encoded data removed]",
      "text/plain": [
       "<Figure size 432x288 with 1 Axes>"
      ]
     },
     "metadata": {
      "needs_background": "light"
     },
     "output_type": "display_data"
    }
   ],
   "source": [
    "sns.regplot(x=year, y=y[:, 0], color='blue', label='Scatter Plot with Regression Line')\n",
    "\n",
    "plt.xlabel('Year')\n",
    "plt.ylabel('dollar market price')"
   ]
  },
  {
   "cell_type": "code",
   "execution_count": 476,
   "id": "56fbfabc",
   "metadata": {},
   "outputs": [
    {
     "data": {
      "text/plain": [
       "array([-7.04868447e+02, -6.34128034e+02, -5.63387620e+02, -4.92647207e+02,\n",
       "       -4.21906793e+02, -3.51166380e+02, -2.80425966e+02, -2.09685553e+02,\n",
       "       -1.38945139e+02, -6.82047256e+01,  2.53568788e+00,  7.32761014e+01,\n",
       "        1.44016515e+02,  2.14756928e+02,  2.85497342e+02,  3.56237755e+02,\n",
       "        4.26978169e+02,  4.97718582e+02,  5.68458996e+02,  6.39199409e+02,\n",
       "        7.09939823e+02,  7.80680236e+02,  8.51420650e+02,  9.22161064e+02,\n",
       "        9.92901477e+02,  1.06364189e+03,  1.13438230e+03,  1.20512272e+03,\n",
       "        1.27586313e+03,  1.34660354e+03,  1.41734396e+03,  1.48808437e+03,\n",
       "        1.55882479e+03,  1.62956520e+03,  1.70030561e+03,  1.77104603e+03,\n",
       "        1.84178644e+03,  1.91252685e+03,  1.98326727e+03,  2.05400768e+03,\n",
       "        2.12474809e+03,  2.19548851e+03,  2.26622892e+03,  2.33696933e+03,\n",
       "        2.40770975e+03,  2.47845016e+03,  2.54919057e+03,  2.61993099e+03,\n",
       "        2.69067140e+03])"
      ]
     },
     "execution_count": 476,
     "metadata": {},
     "output_type": "execute_result"
    }
   ],
   "source": [
    "w = gradient_descent(X, y[:, 1], 0.1) \n",
    "linear_official_y = []\n",
    "for x in X:\n",
    "    linear_official_y.append(np.dot(w,x))   \n",
    "linear_official_price_p = denormalize(np.array(linear_official_y), float(data['dollar official price'].max()), float(data['dollar official price'].min()))    \n",
    "linear_official_price_p    "
   ]
  },
  {
   "cell_type": "code",
   "execution_count": 477,
   "id": "62c67ff0",
   "metadata": {},
   "outputs": [
    {
     "data": {
      "text/plain": [
       "<matplotlib.legend.Legend at 0x18c9d6da1c0>"
      ]
     },
     "execution_count": 477,
     "metadata": {},
     "output_type": "execute_result"
    },
    {
     "data": {
      "image/png": "[encoded data removed]",
      "text/plain": [
       "<Figure size 432x288 with 1 Axes>"
      ]
     },
     "metadata": {
      "needs_background": "light"
     },
     "output_type": "display_data"
    }
   ],
   "source": [
    "sns.scatterplot(x=year, y=y[:, 1], color='red', label='actual')\n",
    "sns.scatterplot(x=year, y=linear_official_y, color='blue', label='predicted')\n",
    "\n",
    "plt.xlabel('Year')\n",
    "plt.ylabel('dollar official price')\n",
    "plt.legend()"
   ]
  },
  {
   "cell_type": "code",
   "execution_count": 478,
   "id": "e15373b3",
   "metadata": {},
   "outputs": [
    {
     "data": {
      "text/plain": [
       "Text(0, 0.5, 'dollar official price')"
      ]
     },
     "execution_count": 478,
     "metadata": {},
     "output_type": "execute_result"
    },
    {
     "data": {
      "image/png": "[encoded data removed]",
      "text/plain": [
       "<Figure size 432x288 with 1 Axes>"
      ]
     },
     "metadata": {
      "needs_background": "light"
     },
     "output_type": "display_data"
    }
   ],
   "source": [
    "sns.regplot(x=year, y=y[:, 1], color='blue', label='Scatter Plot with Regression Line')\n",
    "\n",
    "plt.xlabel('Year')\n",
    "plt.ylabel('dollar official price')"
   ]
  },
  {
   "cell_type": "code",
   "execution_count": 454,
   "id": "3cafcff1",
   "metadata": {},
   "outputs": [],
   "source": [
    "def power(vector, n): \n",
    "    value = vector[1]\n",
    "    return np.array([value ** i for i in range(n+1)])"
   ]
  },
  {
   "cell_type": "code",
   "execution_count": 455,
   "id": "ccb92c6c",
   "metadata": {},
   "outputs": [],
   "source": [
    "def poly_gradient_descent(X, y, n, alpha): \n",
    "    \n",
    "    dim = n + 1 \n",
    "    size = len(X) \n",
    "    w_old = np.zeros(dim) \n",
    "    w_new = np.ones(dim)\n",
    "    \n",
    "    norm = 1000\n",
    "    while norm > 0.001: \n",
    "        for j in range(dim):  \n",
    "            term = 0 \n",
    "            for i in range(size):  \n",
    "                term += (np.dot(w_old, power(X[i], n)) - y[i]) * power(X[i], n)[j]   \n",
    "            w_new[j] = w_old[j] - (alpha * term / size)     \n",
    "        norm = np.linalg.norm(w_new - w_old)    \n",
    "        w_old = copy.deepcopy(w_new)  \n",
    "    return w_new    "
   ]
  },
  {
   "cell_type": "code",
   "execution_count": 479,
   "id": "13888645",
   "metadata": {},
   "outputs": [
    {
     "data": {
      "text/plain": [
       "array([ -676.22303041,  -686.64311094,  -696.53262201,  -705.79721604,\n",
       "        -714.3296244 ,  -722.00775578,  -728.69247851,  -734.22502737,\n",
       "        -738.42396352,  -741.08160221,  -741.95980606,  -740.78502268,\n",
       "        -737.24242317,  -730.9689728 ,  -721.54523648,  -708.48568943,\n",
       "        -691.22726715,  -669.11584876,  -641.39032306,  -607.16383751,\n",
       "        -565.40177644,  -514.89595564,  -454.23445626,  -381.76645094,\n",
       "        -295.56129961,  -193.36111049,   -72.52587416,    70.02981608,\n",
       "         237.90954544,   435.31855641,   667.15923649,   939.1400491 ,\n",
       "        1257.89947232,  1631.14664865,  2067.82059571,  2578.26998249,\n",
       "        3174.45563991,  3870.17814678,  4681.33301395,  5626.19618082,\n",
       "        6725.74273871,  8004.00200662,  9488.45230513, 11210.45900559,\n",
       "       13205.75967309, 15515.00037409, 18184.32748333, 21266.03959893,\n",
       "       24819.30446128])"
      ]
     },
     "execution_count": 479,
     "metadata": {},
     "output_type": "execute_result"
    }
   ],
   "source": [
    "w = poly_gradient_descent(X, y[:, 0], 10, 0.1) \n",
    "poly_market_y = []\n",
    "for x in X:\n",
    "    poly_market_y.append(np.dot(w, power(x, 10))) \n",
    "poly_market_price_p = denormalize(np.array(poly_market_y), float(data['dollar market price'].max()), float(data['dollar market price'].min()))    \n",
    "poly_market_price_p    "
   ]
  },
  {
   "cell_type": "code",
   "execution_count": 480,
   "id": "99b96767",
   "metadata": {},
   "outputs": [
    {
     "data": {
      "text/plain": [
       "<matplotlib.legend.Legend at 0x18c9d772c10>"
      ]
     },
     "execution_count": 480,
     "metadata": {},
     "output_type": "execute_result"
    },
    {
     "data": {
      "image/png": "[encoded data removed]",
      "text/plain": [
       "<Figure size 432x288 with 1 Axes>"
      ]
     },
     "metadata": {
      "needs_background": "light"
     },
     "output_type": "display_data"
    }
   ],
   "source": [
    "sns.scatterplot(x=year, y=y[:, 0], color='red', label='actual')\n",
    "sns.scatterplot(x=year, y=poly_market_y, color='blue', label='predicted')\n",
    "\n",
    "plt.xlabel('Year')\n",
    "plt.ylabel('dollar market price')\n",
    "plt.legend()"
   ]
  },
  {
   "cell_type": "code",
   "execution_count": 481,
   "id": "9bfb66a5",
   "metadata": {},
   "outputs": [
    {
     "data": {
      "text/plain": [
       "array([-7.88963183e+02, -7.08874340e+02, -6.24305195e+02, -5.34947990e+02,\n",
       "       -4.40467985e+02, -3.40500513e+02, -2.34647647e+02, -1.22474417e+02,\n",
       "       -3.50450475e+00,  1.22784669e+02,  2.56967555e+02,  3.99676908e+02,\n",
       "        5.51611165e+02,  7.13542937e+02,  8.86328771e+02,  1.07092041e+03,\n",
       "        1.26837775e+03,  1.47988384e+03,  1.70676209e+03,  1.95049619e+03,\n",
       "        2.21275299e+03,  2.49540886e+03,  2.80058001e+03,  3.13065721e+03,\n",
       "        3.48834566e+03,  3.87671060e+03,  4.29922934e+03,  4.75985062e+03,\n",
       "        5.26306214e+03,  5.81396726e+03,  6.41837185e+03,  7.08288258e+03,\n",
       "        7.81501783e+03,  8.62333257e+03,  9.51755882e+03,  1.05087631e+04,\n",
       "        1.16095229e+04,  1.28341235e+04,  1.41987781e+04,  1.57218720e+04,\n",
       "        1.74242349e+04,  1.93294420e+04,  2.14641482e+04,  2.38584568e+04,\n",
       "        2.65463266e+04,  2.95660204e+04,  3.29605986e+04,  3.67784602e+04,\n",
       "        4.10739374e+04])"
      ]
     },
     "execution_count": 481,
     "metadata": {},
     "output_type": "execute_result"
    }
   ],
   "source": [
    "w = poly_gradient_descent(X, y[:, 1], 10, 0.1) \n",
    "poly_official_y = []\n",
    "for x in X:\n",
    "    poly_official_y.append(np.dot(w, power(x, 10))) \n",
    "poly_official_price_p = denormalize(np.array(poly_official_y), float(data['dollar market price'].max()), float(data['dollar market price'].min()))    \n",
    "poly_official_price_p    "
   ]
  },
  {
   "cell_type": "code",
   "execution_count": 482,
   "id": "6686d349",
   "metadata": {},
   "outputs": [
    {
     "data": {
      "text/plain": [
       "<matplotlib.legend.Legend at 0x18c9d7d0550>"
      ]
     },
     "execution_count": 482,
     "metadata": {},
     "output_type": "execute_result"
    },
    {
     "data": {
      "image/png": "[encoded data removed]",
      "text/plain": [
       "<Figure size 432x288 with 1 Axes>"
      ]
     },
     "metadata": {
      "needs_background": "light"
     },
     "output_type": "display_data"
    }
   ],
   "source": [
    "sns.scatterplot(x=year, y=y[:, 1], color='red', label='actual')\n",
    "sns.scatterplot(x=year, y=poly_official_y, color='blue', label='predicted')\n",
    "\n",
    "plt.xlabel('Year')\n",
    "plt.ylabel('dollar official price')\n",
    "plt.legend()"
   ]
  },
  {
   "cell_type": "code",
   "execution_count": 488,
   "id": "b1491dff",
   "metadata": {},
   "outputs": [],
   "source": [
    "ratio = np.array(poly_market_y) / np.array(poly_official_y) "
   ]
  },
  {
   "cell_type": "code",
   "execution_count": 489,
   "id": "8ca6cae7",
   "metadata": {},
   "outputs": [
    {
     "data": {
      "text/plain": [
       "<AxesSubplot:ylabel='Price difference ratio'>"
      ]
     },
     "execution_count": 489,
     "metadata": {},
     "output_type": "execute_result"
    },
    {
     "data": {
      "image/png": "[encoded data removed]",
      "text/plain": [
       "<Figure size 432x288 with 1 Axes>"
      ]
     },
     "metadata": {
      "needs_background": "light"
     },
     "output_type": "display_data"
    }
   ],
   "source": [
    "sns.scatterplot(x=year, y=data['Price difference ratio'], color='red', label='actual')\n",
    "sns.scatterplot(x=year, y=ratio, color='blue', label='predicted')"
   ]
  },
  {
   "cell_type": "code",
   "execution_count": 4,
   "id": "213375db",
   "metadata": {},
   "outputs": [],
   "source": [
    "from sklearn.linear_model import LinearRegression\n",
    "import numpy as np"
   ]
  },
  {
   "cell_type": "code",
   "execution_count": 5,
   "id": "2cfe4d23",
   "metadata": {},
   "outputs": [],
   "source": [
    "m = LinearRegression()"
   ]
  },
  {
   "cell_type": "code",
   "execution_count": 8,
   "id": "e0775428",
   "metadata": {},
   "outputs": [],
   "source": [
    "x = np.array([1, 2, 6]).reshape(-1, 1)\n",
    "y = np.array([3, 5, 4]).reshape(-1, 1)"
   ]
  },
  {
   "cell_type": "code",
   "execution_count": 9,
   "id": "4222c1ad",
   "metadata": {},
   "outputs": [
    {
     "data": {
      "text/plain": [
       "LinearRegression()"
      ]
     },
     "execution_count": 9,
     "metadata": {},
     "output_type": "execute_result"
    }
   ],
   "source": [
    "m.fit(x, y)"
   ]
  },
  {
   "cell_type": "code",
   "execution_count": 10,
   "id": "63a185b2",
   "metadata": {},
   "outputs": [
    {
     "data": {
      "text/plain": [
       "array([[0.07142857]])"
      ]
     },
     "execution_count": 10,
     "metadata": {},
     "output_type": "execute_result"
    }
   ],
   "source": [
    "m.coef_"
   ]
  },
  {
   "cell_type": "code",
   "execution_count": null,
   "id": "90e0b4c9",
   "metadata": {},
   "outputs": [],
   "source": []
  }
 ],
 "metadata": {
  "kernelspec": {
   "display_name": "Python 3 (ipykernel)",
   "language": "python",
   "name": "python3"
  },
  "language_info": {
   "codemirror_mode": {
    "name": "ipython",
    "version": 3
   },
   "file_extension": ".py",
   "mimetype": "text/x-python",
   "name": "python",
   "nbconvert_exporter": "python",
   "pygments_lexer": "ipython3",
   "version": "3.9.13"
  }
 },
 "nbformat": 4,
 "nbformat_minor": 5
}
